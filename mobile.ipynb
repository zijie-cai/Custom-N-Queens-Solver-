{
 "cells": [
  {
   "cell_type": "code",
   "execution_count": null,
   "metadata": {},
   "outputs": [
    {
     "data": {
      "application/vnd.jupyter.widget-view+json": {
       "model_id": "c9fca31173cb4de194d5822801f3572d",
       "version_major": 2,
       "version_minor": 0
      },
      "text/plain": [
       "Output()"
      ]
     },
     "metadata": {},
     "output_type": "display_data"
    },
    {
     "data": {
      "application/vnd.jupyter.widget-view+json": {
       "model_id": "88a1a08a486b456b9b447cad02718310",
       "version_major": 2,
       "version_minor": 0
      },
      "text/plain": [
       "VBox(children=(VBox(children=(Label(value='Custom N-Queens Solver', layout=Layout(margin='0 0 0 70px'), style=…"
      ]
     },
     "metadata": {},
     "output_type": "display_data"
    },
    {
     "name": "stderr",
     "output_type": "stream",
     "text": [
      "No such comm: 8b60e932e6a5453cb47dc87d245fdcb4\n",
      "No such comm: 8b60e932e6a5453cb47dc87d245fdcb4\n",
      "No such comm: 8b60e932e6a5453cb47dc87d245fdcb4\n",
      "No such comm: 8b60e932e6a5453cb47dc87d245fdcb4\n",
      "No such comm: 8b60e932e6a5453cb47dc87d245fdcb4\n",
      "No such comm: 8b60e932e6a5453cb47dc87d245fdcb4\n",
      "No such comm: aa591cc7c9a64e8c90a4791c8cbc41c1\n",
      "No such comm: aa591cc7c9a64e8c90a4791c8cbc41c1\n",
      "No such comm: aa591cc7c9a64e8c90a4791c8cbc41c1\n",
      "No such comm: aa591cc7c9a64e8c90a4791c8cbc41c1\n",
      "No such comm: aa591cc7c9a64e8c90a4791c8cbc41c1\n",
      "No such comm: aa591cc7c9a64e8c90a4791c8cbc41c1\n",
      "No such comm: 660bf5aeb68f4f088590b9e874e655b5\n",
      "No such comm: 660bf5aeb68f4f088590b9e874e655b5\n",
      "No such comm: 660bf5aeb68f4f088590b9e874e655b5\n",
      "No such comm: 660bf5aeb68f4f088590b9e874e655b5\n",
      "No such comm: 660bf5aeb68f4f088590b9e874e655b5\n",
      "No such comm: 660bf5aeb68f4f088590b9e874e655b5\n",
      "No such comm: 5aad3ce03754444ca97676b7715f5dce\n",
      "No such comm: 5aad3ce03754444ca97676b7715f5dce\n",
      "No such comm: 5aad3ce03754444ca97676b7715f5dce\n",
      "No such comm: 5aad3ce03754444ca97676b7715f5dce\n",
      "No such comm: 5aad3ce03754444ca97676b7715f5dce\n",
      "No such comm: 5aad3ce03754444ca97676b7715f5dce\n",
      "No such comm: ff7e41dcea1a475bb4d71a70ef46edd8\n",
      "No such comm: ff7e41dcea1a475bb4d71a70ef46edd8\n",
      "No such comm: ff7e41dcea1a475bb4d71a70ef46edd8\n",
      "No such comm: ff7e41dcea1a475bb4d71a70ef46edd8\n",
      "No such comm: ff7e41dcea1a475bb4d71a70ef46edd8\n",
      "No such comm: ff7e41dcea1a475bb4d71a70ef46edd8\n",
      "No such comm: 30de7e87ac8840578774ca7f65edd153\n",
      "No such comm: 30de7e87ac8840578774ca7f65edd153\n",
      "No such comm: 30de7e87ac8840578774ca7f65edd153\n",
      "No such comm: 30de7e87ac8840578774ca7f65edd153\n",
      "No such comm: 30de7e87ac8840578774ca7f65edd153\n",
      "No such comm: 30de7e87ac8840578774ca7f65edd153\n",
      "No such comm: 379ebdfe547043e39ed9222e93a91a80\n",
      "No such comm: 379ebdfe547043e39ed9222e93a91a80\n",
      "No such comm: 379ebdfe547043e39ed9222e93a91a80\n",
      "No such comm: 379ebdfe547043e39ed9222e93a91a80\n",
      "No such comm: 379ebdfe547043e39ed9222e93a91a80\n",
      "No such comm: 379ebdfe547043e39ed9222e93a91a80\n",
      "No such comm: 3fa49955f618481685f79f2846f40629\n",
      "No such comm: 3fa49955f618481685f79f2846f40629\n",
      "No such comm: 3fa49955f618481685f79f2846f40629\n",
      "No such comm: 3fa49955f618481685f79f2846f40629\n",
      "No such comm: 3fa49955f618481685f79f2846f40629\n",
      "No such comm: 3fa49955f618481685f79f2846f40629\n",
      "No such comm: 35e2be80521f4cd5a2e77bfb78ec76b4\n",
      "No such comm: 35e2be80521f4cd5a2e77bfb78ec76b4\n",
      "No such comm: 35e2be80521f4cd5a2e77bfb78ec76b4\n",
      "No such comm: 35e2be80521f4cd5a2e77bfb78ec76b4\n",
      "No such comm: 35e2be80521f4cd5a2e77bfb78ec76b4\n",
      "No such comm: 35e2be80521f4cd5a2e77bfb78ec76b4\n",
      "No such comm: fa439ca5097445a7bce9828164798de0\n",
      "No such comm: fa439ca5097445a7bce9828164798de0\n",
      "No such comm: fa439ca5097445a7bce9828164798de0\n",
      "No such comm: fa439ca5097445a7bce9828164798de0\n",
      "No such comm: fa439ca5097445a7bce9828164798de0\n",
      "No such comm: fa439ca5097445a7bce9828164798de0\n",
      "No such comm: 6c2d229f1ad3442fbd378c56669df448\n",
      "No such comm: 65d8f5b2da114f10a5b981619d819e5a\n",
      "No such comm: 65d8f5b2da114f10a5b981619d819e5a\n",
      "No such comm: 65d8f5b2da114f10a5b981619d819e5a\n",
      "No such comm: 65d8f5b2da114f10a5b981619d819e5a\n",
      "No such comm: 65d8f5b2da114f10a5b981619d819e5a\n",
      "No such comm: 65d8f5b2da114f10a5b981619d819e5a\n",
      "No such comm: ccd4a03ca34e4782bcac66ce32e3f798\n",
      "No such comm: ccd4a03ca34e4782bcac66ce32e3f798\n",
      "No such comm: ccd4a03ca34e4782bcac66ce32e3f798\n",
      "No such comm: ccd4a03ca34e4782bcac66ce32e3f798\n",
      "No such comm: ccd4a03ca34e4782bcac66ce32e3f798\n",
      "No such comm: ccd4a03ca34e4782bcac66ce32e3f798\n",
      "No such comm: 7da0e7df994b47d49de8ff3cfb2a5e23\n",
      "No such comm: 7da0e7df994b47d49de8ff3cfb2a5e23\n",
      "No such comm: 7da0e7df994b47d49de8ff3cfb2a5e23\n",
      "No such comm: 7da0e7df994b47d49de8ff3cfb2a5e23\n",
      "No such comm: 7da0e7df994b47d49de8ff3cfb2a5e23\n",
      "No such comm: 7da0e7df994b47d49de8ff3cfb2a5e23\n",
      "No such comm: b2ee6cda9f2247ceb667bc27179a1835\n",
      "No such comm: b2ee6cda9f2247ceb667bc27179a1835\n",
      "No such comm: b2ee6cda9f2247ceb667bc27179a1835\n",
      "No such comm: b2ee6cda9f2247ceb667bc27179a1835\n",
      "No such comm: b2ee6cda9f2247ceb667bc27179a1835\n",
      "No such comm: b2ee6cda9f2247ceb667bc27179a1835\n",
      "No such comm: e2329597c9b24807924a886f8debc69a\n",
      "No such comm: e2329597c9b24807924a886f8debc69a\n",
      "No such comm: e2329597c9b24807924a886f8debc69a\n",
      "No such comm: e2329597c9b24807924a886f8debc69a\n",
      "No such comm: e2329597c9b24807924a886f8debc69a\n",
      "No such comm: e2329597c9b24807924a886f8debc69a\n",
      "No such comm: e95d134bc56b437a8294fb71576880c8\n",
      "No such comm: e95d134bc56b437a8294fb71576880c8\n",
      "No such comm: e95d134bc56b437a8294fb71576880c8\n",
      "No such comm: e95d134bc56b437a8294fb71576880c8\n",
      "No such comm: e95d134bc56b437a8294fb71576880c8\n",
      "No such comm: e95d134bc56b437a8294fb71576880c8\n",
      "No such comm: 1af0f78d60724d1baf1b341c3830e7f8\n",
      "No such comm: 1af0f78d60724d1baf1b341c3830e7f8\n",
      "No such comm: 1af0f78d60724d1baf1b341c3830e7f8\n",
      "No such comm: 1af0f78d60724d1baf1b341c3830e7f8\n",
      "No such comm: 1af0f78d60724d1baf1b341c3830e7f8\n",
      "No such comm: 1af0f78d60724d1baf1b341c3830e7f8\n",
      "No such comm: 513b6f6adade4f8389104a2c68ed7913\n",
      "No such comm: 513b6f6adade4f8389104a2c68ed7913\n",
      "No such comm: 513b6f6adade4f8389104a2c68ed7913\n",
      "No such comm: 513b6f6adade4f8389104a2c68ed7913\n",
      "No such comm: 513b6f6adade4f8389104a2c68ed7913\n",
      "No such comm: 513b6f6adade4f8389104a2c68ed7913\n",
      "No such comm: 2ed56752645e4fad99e3bbed1e8556b4\n",
      "No such comm: 2ed56752645e4fad99e3bbed1e8556b4\n",
      "No such comm: 2ed56752645e4fad99e3bbed1e8556b4\n",
      "No such comm: 2ed56752645e4fad99e3bbed1e8556b4\n",
      "No such comm: 2ed56752645e4fad99e3bbed1e8556b4\n",
      "No such comm: 2ed56752645e4fad99e3bbed1e8556b4\n",
      "No such comm: 555ea2be31e3410b95f6bc3215f9eef4\n",
      "No such comm: 555ea2be31e3410b95f6bc3215f9eef4\n",
      "No such comm: 555ea2be31e3410b95f6bc3215f9eef4\n",
      "No such comm: 555ea2be31e3410b95f6bc3215f9eef4\n",
      "No such comm: 555ea2be31e3410b95f6bc3215f9eef4\n",
      "No such comm: 555ea2be31e3410b95f6bc3215f9eef4\n"
     ]
    }
   ],
   "source": [
    "# For interactive matplotlib\n",
    "%matplotlib widget\n",
    "\n",
    "from mobile_game import N_Queens_Game, N_Queens_Solver_Vis\n",
    "\n",
    "n_queens_game = N_Queens_Game()\n",
    "n_queens_game.setup()\n",
    "N_Queens_Solver_Vis()\n"
   ]
  },
  {
   "cell_type": "code",
   "execution_count": null,
   "metadata": {},
   "outputs": [],
   "source": []
  }
 ],
 "metadata": {
  "kernelspec": {
   "display_name": "421-final",
   "language": "python",
   "name": "python3"
  },
  "language_info": {
   "codemirror_mode": {
    "name": "ipython",
    "version": 3
   },
   "file_extension": ".py",
   "mimetype": "text/x-python",
   "name": "python",
   "nbconvert_exporter": "python",
   "pygments_lexer": "ipython3",
   "version": "3.9.19"
  }
 },
 "nbformat": 4,
 "nbformat_minor": 2
}
