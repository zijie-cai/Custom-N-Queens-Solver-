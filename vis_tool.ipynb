{
 "cells": [
  {
   "cell_type": "code",
   "execution_count": 1,
   "id": "b04c9f23",
   "metadata": {},
   "outputs": [
    {
     "data": {
      "application/vnd.jupyter.widget-view+json": {
       "model_id": "083cf96e7a3b496e95c6a03fc0b00bcb",
       "version_major": 2,
       "version_minor": 0
      },
      "text/plain": [
       "Output()"
      ]
     },
     "metadata": {},
     "output_type": "display_data"
    }
   ],
   "source": [
    "# For interactive matplotlib\n",
    "%matplotlib widget \n",
    "from game import N_Queens_Game\n",
    "game = N_Queens_Game()\n",
    "game.setup()"
   ]
  },
  {
   "cell_type": "code",
   "execution_count": 2,
   "id": "459d55aa",
   "metadata": {},
   "outputs": [
    {
     "data": {
      "application/vnd.jupyter.widget-view+json": {
       "model_id": "0e129cf02eb54b6884b7589833f30871",
       "version_major": 2,
       "version_minor": 0
      },
      "text/plain": [
       "HBox(children=(VBox(children=(Label(value='Custom N-Queens Solver', layout=Layout(margin='0 0 0 70px'), style=…"
      ]
     },
     "metadata": {},
     "output_type": "display_data"
    },
    {
     "name": "stderr",
     "output_type": "stream",
     "text": [
      "No such comm: 41714c13e8344fe18571f16a00f96f03\n",
      "No such comm: 41714c13e8344fe18571f16a00f96f03\n",
      "No such comm: 41714c13e8344fe18571f16a00f96f03\n",
      "No such comm: 41714c13e8344fe18571f16a00f96f03\n",
      "No such comm: 41714c13e8344fe18571f16a00f96f03\n",
      "No such comm: 41714c13e8344fe18571f16a00f96f03\n",
      "No such comm: 63fdf9f2c3fe43f68679c0d8f86c28c5\n",
      "No such comm: 63fdf9f2c3fe43f68679c0d8f86c28c5\n",
      "No such comm: 63fdf9f2c3fe43f68679c0d8f86c28c5\n",
      "No such comm: 63fdf9f2c3fe43f68679c0d8f86c28c5\n",
      "No such comm: 63fdf9f2c3fe43f68679c0d8f86c28c5\n",
      "No such comm: 63fdf9f2c3fe43f68679c0d8f86c28c5\n",
      "No such comm: 17384478b8b84f96a74fca1f4f2e4ae2\n",
      "No such comm: 17384478b8b84f96a74fca1f4f2e4ae2\n",
      "No such comm: 17384478b8b84f96a74fca1f4f2e4ae2\n",
      "No such comm: 17384478b8b84f96a74fca1f4f2e4ae2\n",
      "No such comm: 17384478b8b84f96a74fca1f4f2e4ae2\n",
      "No such comm: 17384478b8b84f96a74fca1f4f2e4ae2\n",
      "No such comm: 4d2fa6ce8bc3400c8bc07c6ed1d6f458\n",
      "No such comm: 4d2fa6ce8bc3400c8bc07c6ed1d6f458\n",
      "No such comm: 4d2fa6ce8bc3400c8bc07c6ed1d6f458\n",
      "No such comm: 4d2fa6ce8bc3400c8bc07c6ed1d6f458\n",
      "No such comm: 4d2fa6ce8bc3400c8bc07c6ed1d6f458\n",
      "No such comm: 4d2fa6ce8bc3400c8bc07c6ed1d6f458\n",
      "No such comm: 288d72a4d5084beeb44a387fab16eb9e\n",
      "No such comm: 288d72a4d5084beeb44a387fab16eb9e\n",
      "No such comm: 288d72a4d5084beeb44a387fab16eb9e\n",
      "No such comm: 288d72a4d5084beeb44a387fab16eb9e\n",
      "No such comm: 288d72a4d5084beeb44a387fab16eb9e\n",
      "No such comm: 288d72a4d5084beeb44a387fab16eb9e\n",
      "No such comm: cdbb28da5d204962af23395b39adfe60\n",
      "No such comm: cdbb28da5d204962af23395b39adfe60\n",
      "No such comm: cdbb28da5d204962af23395b39adfe60\n",
      "No such comm: cdbb28da5d204962af23395b39adfe60\n",
      "No such comm: cdbb28da5d204962af23395b39adfe60\n",
      "No such comm: cdbb28da5d204962af23395b39adfe60\n",
      "No such comm: 31b91af874b64a3a874deb233541ec18\n",
      "No such comm: 31b91af874b64a3a874deb233541ec18\n",
      "No such comm: 31b91af874b64a3a874deb233541ec18\n",
      "No such comm: 31b91af874b64a3a874deb233541ec18\n",
      "No such comm: 31b91af874b64a3a874deb233541ec18\n",
      "No such comm: 31b91af874b64a3a874deb233541ec18\n",
      "No such comm: 2335dde8aea945b19398cf9f8bb1b435\n",
      "No such comm: 2335dde8aea945b19398cf9f8bb1b435\n",
      "No such comm: 2335dde8aea945b19398cf9f8bb1b435\n",
      "No such comm: 2335dde8aea945b19398cf9f8bb1b435\n",
      "No such comm: 2335dde8aea945b19398cf9f8bb1b435\n",
      "No such comm: 2335dde8aea945b19398cf9f8bb1b435\n",
      "No such comm: 6bd023f2d8944aff98253499772851bb\n",
      "No such comm: 6bd023f2d8944aff98253499772851bb\n",
      "No such comm: 6bd023f2d8944aff98253499772851bb\n",
      "No such comm: 6bd023f2d8944aff98253499772851bb\n",
      "No such comm: 6bd023f2d8944aff98253499772851bb\n",
      "No such comm: 6bd023f2d8944aff98253499772851bb\n",
      "No such comm: 131d8a53688e4d44892ac1d86e4aa84d\n",
      "No such comm: 131d8a53688e4d44892ac1d86e4aa84d\n",
      "No such comm: 131d8a53688e4d44892ac1d86e4aa84d\n",
      "No such comm: 131d8a53688e4d44892ac1d86e4aa84d\n",
      "No such comm: 131d8a53688e4d44892ac1d86e4aa84d\n",
      "No such comm: 131d8a53688e4d44892ac1d86e4aa84d\n"
     ]
    }
   ],
   "source": [
    "from solver_vis import N_Queens_Solver_Vis\n",
    "N_Queens_Solver_Vis()"
   ]
  },
  {
   "cell_type": "code",
   "execution_count": null,
   "id": "e7c358c1",
   "metadata": {},
   "outputs": [],
   "source": []
  }
 ],
 "metadata": {
  "kernelspec": {
   "display_name": "421-final",
   "language": "python",
   "name": "python3"
  },
  "language_info": {
   "codemirror_mode": {
    "name": "ipython",
    "version": 3
   },
   "file_extension": ".py",
   "mimetype": "text/x-python",
   "name": "python",
   "nbconvert_exporter": "python",
   "pygments_lexer": "ipython3",
   "version": "3.9.19"
  }
 },
 "nbformat": 4,
 "nbformat_minor": 5
}
