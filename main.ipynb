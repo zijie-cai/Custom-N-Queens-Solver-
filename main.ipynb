{
 "cells": [
  {
   "cell_type": "markdown",
   "id": "f2e92769-20ed-4e06-9386-6a38ae8e5942",
   "metadata": {},
   "source": [
    "# Visualize N-Queens Solver\n",
    "\n",
    "![AI-Queens](ai.png)\n",
    "\n",
    "# How to Use\n",
    "Simply run this cell to set up the visualization tool for the N-Queens Solver."
   ]
  },
  {
   "cell_type": "code",
   "execution_count": 1,
   "id": "459d55aa",
   "metadata": {},
   "outputs": [
    {
     "data": {
      "application/vnd.jupyter.widget-view+json": {
       "model_id": "5993d973d2864ff7825a9febb5ad67d4",
       "version_major": 2,
       "version_minor": 0
      },
      "text/plain": [
       "HBox(children=(VBox(children=(Label(value='Custom N-Queens Solver', style=LabelStyle(font_size='20px', font_we…"
      ]
     },
     "metadata": {},
     "output_type": "display_data"
    }
   ],
   "source": [
    "from solver_vis import N_Queens_Solver_Vis\n",
    "N_Queens_Solver_Vis()"
   ]
  },
  {
   "cell_type": "code",
   "execution_count": null,
   "id": "0a0083dc",
   "metadata": {},
   "outputs": [],
   "source": []
  }
 ],
 "metadata": {
  "kernelspec": {
   "display_name": "421-final",
   "language": "python",
   "name": "python3"
  },
  "language_info": {
   "codemirror_mode": {
    "name": "ipython",
    "version": 3
   },
   "file_extension": ".py",
   "mimetype": "text/x-python",
   "name": "python",
   "nbconvert_exporter": "python",
   "pygments_lexer": "ipython3",
   "version": "3.9.18"
  }
 },
 "nbformat": 4,
 "nbformat_minor": 5
}
